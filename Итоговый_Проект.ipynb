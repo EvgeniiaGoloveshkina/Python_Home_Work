{
  "nbformat": 4,
  "nbformat_minor": 0,
  "metadata": {
    "colab": {
      "provenance": [],
      "authorship_tag": "ABX9TyO7ASW1oVF3OkaIotcuyAvd",
      "include_colab_link": true
    },
    "kernelspec": {
      "name": "python3",
      "display_name": "Python 3"
    },
    "language_info": {
      "name": "python"
    }
  },
  "cells": [
    {
      "cell_type": "markdown",
      "metadata": {
        "id": "view-in-github",
        "colab_type": "text"
      },
      "source": [
        "<a href=\"https://colab.research.google.com/github/EvgeniiaGoloveshkina/Python_Home_Work/blob/main/%D0%98%D1%82%D0%BE%D0%B3%D0%BE%D0%B2%D1%8B%D0%B9_%D0%9F%D1%80%D0%BE%D0%B5%D0%BA%D1%82.ipynb\" target=\"_parent\"><img src=\"https://colab.research.google.com/assets/colab-badge.svg\" alt=\"Open In Colab\"/></a>"
      ]
    },
    {
      "cell_type": "markdown",
      "source": [
        "# Итоговый проект  :\n",
        "\n",
        "**Решить уравление**\n",
        "\n",
        "**f(x) = x^3 - 6x^2 + 4x + 12 (или 5x^3 - x^2 - 20x + 4)**\n",
        "\n",
        "1. Определить корни\n",
        "\n",
        "2. Найти интервалы, на которых функция возрастает\n",
        "\n",
        "3. Найти интервалы, на которых функция убывает\n",
        "\n",
        "4. Построить график\n",
        "\n",
        "5. Вычислить вершину\n",
        "\n",
        "6. Определить промежутки, на котором f > 0\n",
        "\n",
        "7. Определить промежутки, на котором f < 0\n",
        "\n",
        "Оформить работу с заголовками в Markdown.\n"
      ],
      "metadata": {
        "id": "D6B3NELGCmTx"
      }
    },
    {
      "cell_type": "markdown",
      "source": [
        "1. **Определить корни уравнения** f(x) = 5x^3 - x^2 -20x + 4\n"
      ],
      "metadata": {
        "id": "6cH6-cXJK9f1"
      }
    },
    {
      "cell_type": "code",
      "source": [
        "import numpy as np\n",
        "import matplotlib.pyplot as plt\n",
        "from sympy import *\n",
        "from math import sqrt\n",
        "\n",
        "x1, x2, x3 = np.roots([5, -1, -20, 4])\n",
        "x1, x2, x3"
      ],
      "metadata": {
        "colab": {
          "base_uri": "https://localhost:8080/"
        },
        "id": "1-NEzVEwC871",
        "outputId": "555ff43f-7a66-4011-9604-1b06e1ce7093"
      },
      "execution_count": 26,
      "outputs": [
        {
          "output_type": "execute_result",
          "data": {
            "text/plain": [
              "(-1.9999999999999998, 1.9999999999999998, 0.19999999999999998)"
            ]
          },
          "metadata": {},
          "execution_count": 26
        }
      ]
    },
    {
      "cell_type": "markdown",
      "source": [
        "**Промежутки возрастания и убывания функции**\n"
      ],
      "metadata": {
        "id": "edryykrEC_G7"
      }
    },
    {
      "cell_type": "code",
      "source": [
        "x = Symbol('x')\n",
        "y =  5*x ** 3 -  x ** 2 -20* x +4\n",
        "df = diff(y)# ищем производную через sympy\n",
        "df\n"
      ],
      "metadata": {
        "colab": {
          "base_uri": "https://localhost:8080/",
          "height": 38
        },
        "id": "ETZBvImGDFN4",
        "outputId": "d2c02a27-74ea-48c2-dbf1-36585f68a045"
      },
      "execution_count": 27,
      "outputs": [
        {
          "output_type": "execute_result",
          "data": {
            "text/plain": [
              "15*x**2 - 2*x - 20"
            ],
            "text/latex": "$\\displaystyle 15 x^{2} - 2 x - 20$"
          },
          "metadata": {},
          "execution_count": 27
        }
      ]
    },
    {
      "cell_type": "code",
      "source": [
        "df_root = solve(df)\n",
        "float(df_root[0])"
      ],
      "metadata": {
        "colab": {
          "base_uri": "https://localhost:8080/"
        },
        "id": "1UU2IKzNDgGU",
        "outputId": "188fcffa-ad4f-489c-d3ab-5311d0618204"
      },
      "execution_count": 28,
      "outputs": [
        {
          "output_type": "execute_result",
          "data": {
            "text/plain": [
              "-1.0899567715264982"
            ]
          },
          "metadata": {},
          "execution_count": 28
        }
      ]
    },
    {
      "cell_type": "markdown",
      "source": [
        "2. **Найти интервалы, на которых функция возрастает** "
      ],
      "metadata": {
        "id": "0tRgNBrMSqz1"
      }
    },
    {
      "cell_type": "code",
      "source": [
        "solve(df>0)# Функция возрастает на промежутке"
      ],
      "metadata": {
        "colab": {
          "base_uri": "https://localhost:8080/",
          "height": 68
        },
        "id": "mQuW3DaSDr3L",
        "outputId": "5ae2b1c7-08e3-44df-d6f0-e346988cfac4"
      },
      "execution_count": 30,
      "outputs": [
        {
          "output_type": "execute_result",
          "data": {
            "text/plain": [
              "((-oo < x) & (x < 1/15 - sqrt(301)/15)) | ((x < oo) & (1/15 + sqrt(301)/15 < x))"
            ],
            "text/latex": "$\\displaystyle \\left(-\\infty < x \\wedge x < \\frac{1}{15} - \\frac{\\sqrt{301}}{15}\\right) \\vee \\left(x < \\infty \\wedge \\frac{1}{15} + \\frac{\\sqrt{301}}{15} < x\\right)$"
          },
          "metadata": {},
          "execution_count": 30
        }
      ]
    },
    {
      "cell_type": "markdown",
      "source": [],
      "metadata": {
        "id": "uvB2RCFxTmYf"
      }
    },
    {
      "cell_type": "markdown",
      "source": [
        "3. **Найти интервалы, на которых функция убывает**"
      ],
      "metadata": {
        "id": "l4P-nX92TOy3"
      }
    },
    {
      "cell_type": "code",
      "source": [
        "solve(df<0)# Функция убывает на промежутке"
      ],
      "metadata": {
        "colab": {
          "base_uri": "https://localhost:8080/",
          "height": 55
        },
        "id": "ggud3akcDliv",
        "outputId": "72b5b06c-ddce-4948-a3d1-ba78730c952b"
      },
      "execution_count": 37,
      "outputs": [
        {
          "output_type": "execute_result",
          "data": {
            "text/plain": [
              "(x < 1/15 + sqrt(301)/15) & (1/15 - sqrt(301)/15 < x)"
            ],
            "text/latex": "$\\displaystyle x < \\frac{1}{15} + \\frac{\\sqrt{301}}{15} \\wedge \\frac{1}{15} - \\frac{\\sqrt{301}}{15} < x$"
          },
          "metadata": {},
          "execution_count": 37
        }
      ]
    },
    {
      "cell_type": "markdown",
      "source": [
        "4.**Построить график функции f(x) = 5x^3 - x^2 -20x + 4**"
      ],
      "metadata": {
        "id": "b1X5_-ucDw-b"
      }
    },
    {
      "cell_type": "markdown",
      "source": [],
      "metadata": {
        "id": "gyiLzF5sTIlX"
      }
    },
    {
      "cell_type": "code",
      "source": [
        "q= list(range(-36, 36))\n",
        "fq= [(5*x ** 3 -  x ** 2 -20 *x +4) for x in q]\n",
        "\n",
        "plt.axes(facecolor='white')\n",
        "plt.title('y = 5*x ** 3 -  x ** 2 -20 x +4', fontsize = 17)\n",
        "plt.plot(q,fq)\n",
        "plt.show()"
      ],
      "metadata": {
        "colab": {
          "base_uri": "https://localhost:8080/",
          "height": 285
        },
        "id": "X_63mPbED0NN",
        "outputId": "fc54427e-5d04-4b7d-a9de-1ee30e3c6971"
      },
      "execution_count": 32,
      "outputs": [
        {
          "output_type": "display_data",
          "data": {
            "text/plain": [
              "<Figure size 432x288 with 1 Axes>"
            ],
            "image/png": "[encoded data removed]"
          },
          "metadata": {
            "needs_background": "light"
          }
        }
      ]
    },
    {
      "cell_type": "markdown",
      "source": [
        "5. **Вычислить вершину**"
      ],
      "metadata": {
        "id": "DGqBMKYXD6SQ"
      }
    },
    {
      "cell_type": "code",
      "source": [
        "y = [5, -1, -20, 4]\n",
        "np.polyder(y)"
      ],
      "metadata": {
        "colab": {
          "base_uri": "https://localhost:8080/"
        },
        "id": "LKIVbKh9D9EC",
        "outputId": "50db0e48-799e-4adf-cf6f-4eeb6466bde3"
      },
      "execution_count": 33,
      "outputs": [
        {
          "output_type": "execute_result",
          "data": {
            "text/plain": [
              "array([ 15,  -2, -20])"
            ]
          },
          "metadata": {},
          "execution_count": 33
        }
      ]
    },
    {
      "cell_type": "code",
      "source": [
        "q1 = np.roots(np.polyder(y))\n",
        "q1"
      ],
      "metadata": {
        "colab": {
          "base_uri": "https://localhost:8080/"
        },
        "id": "iTiFtP4kEBsx",
        "outputId": "6a657788-fda5-48e7-db4d-529cccc46c6c"
      },
      "execution_count": 34,
      "outputs": [
        {
          "output_type": "execute_result",
          "data": {
            "text/plain": [
              "array([ 1.2232901 , -1.08995677])"
            ]
          },
          "metadata": {},
          "execution_count": 34
        }
      ]
    },
    {
      "cell_type": "markdown",
      "source": [
        "6. **Определить промежуток, на котором f > 0**"
      ],
      "metadata": {
        "id": "1Pmz8gpmEWKN"
      }
    },
    {
      "cell_type": "markdown",
      "source": [],
      "metadata": {
        "id": "aNN_C7JaSG07"
      }
    },
    {
      "cell_type": "code",
      "source": [
        "y = 5*x ** 3 -  x ** 2 -20* x + 4\n",
        "solve(y>0)"
      ],
      "metadata": {
        "colab": {
          "base_uri": "https://localhost:8080/",
          "height": 58
        },
        "id": "FqWbsp8OL2M7",
        "outputId": "36498fa1-d4ab-4e6b-e604-95427b7a7cfb"
      },
      "execution_count": 35,
      "outputs": [
        {
          "output_type": "execute_result",
          "data": {
            "text/plain": [
              "((-2 < x) & (x < 1/5)) | ((2 < x) & (x < oo))"
            ],
            "text/latex": "$\\displaystyle \\left(-2 < x \\wedge x < \\frac{1}{5}\\right) \\vee \\left(2 < x \\wedge x < \\infty\\right)$"
          },
          "metadata": {},
          "execution_count": 35
        }
      ]
    },
    {
      "cell_type": "markdown",
      "source": [
        "7. **Определить промежуток, на котором f < 0**"
      ],
      "metadata": {
        "id": "2q_0gfL6SLPZ"
      }
    },
    {
      "cell_type": "code",
      "source": [
        "y = 5*x ** 3 -  x ** 2 -20* x + 4\n",
        "solve(y<0)"
      ],
      "metadata": {
        "colab": {
          "base_uri": "https://localhost:8080/",
          "height": 58
        },
        "id": "oNzVyDCHL7QH",
        "outputId": "3d84df77-745c-46f2-b435-92c46d5989ed"
      },
      "execution_count": 36,
      "outputs": [
        {
          "output_type": "execute_result",
          "data": {
            "text/plain": [
              "((-oo < x) & (x < -2)) | ((1/5 < x) & (x < 2))"
            ],
            "text/latex": "$\\displaystyle \\left(-\\infty < x \\wedge x < -2\\right) \\vee \\left(\\frac{1}{5} < x \\wedge x < 2\\right)$"
          },
          "metadata": {},
          "execution_count": 36
        }
      ]
    }
  ]
}